{
  "nbformat": 4,
  "nbformat_minor": 0,
  "metadata": {
    "colab": {
      "provenance": [],
      "authorship_tag": "ABX9TyO2kQLHwr5i/Zq9S0n+bAzB",
      "include_colab_link": true
    },
    "kernelspec": {
      "name": "python3",
      "display_name": "Python 3"
    },
    "language_info": {
      "name": "python"
    }
  },
  "cells": [
    {
      "cell_type": "markdown",
      "metadata": {
        "id": "view-in-github",
        "colab_type": "text"
      },
      "source": [
        "<a href=\"https://colab.research.google.com/github/x200706/PythonNotebooks/blob/main/%E8%A8%98%E5%B8%B3%E6%9C%AC.ipynb\" target=\"_parent\"><img src=\"https://colab.research.google.com/assets/colab-badge.svg\" alt=\"Open In Colab\"/></a>"
      ]
    },
    {
      "cell_type": "markdown",
      "source": [
        "Ctrl+F9執行以下代碼"
      ],
      "metadata": {
        "id": "uL8TI6oS1Cip"
      }
    },
    {
      "cell_type": "code",
      "source": [
        "# pip區\n",
        "# !pip install streamlit\n",
        "# !pip install streamlit_option_menu\n",
        "# !pip install pandas"
      ],
      "metadata": {
        "id": "dXFQ-2_yubBM"
      },
      "execution_count": 44,
      "outputs": []
    },
    {
      "cell_type": "code",
      "source": [
        "!mkdir .streamlit"
      ],
      "metadata": {
        "colab": {
          "base_uri": "https://localhost:8080/"
        },
        "id": "25p64gfE1jso",
        "outputId": "5aa69872-60eb-4bdf-c71c-dcb0ec299811"
      },
      "execution_count": 45,
      "outputs": [
        {
          "output_type": "stream",
          "name": "stdout",
          "text": [
            "mkdir: cannot create directory ‘.streamlit’: File exists\n"
          ]
        }
      ]
    },
    {
      "cell_type": "code",
      "execution_count": 46,
      "metadata": {
        "colab": {
          "base_uri": "https://localhost:8080/"
        },
        "id": "jo4wxIB9uPu1",
        "outputId": "e00a3383-3131-4e0f-b99b-7706d74d8c0c"
      },
      "outputs": [
        {
          "output_type": "stream",
          "name": "stdout",
          "text": [
            "Overwriting .streamlit/config.toml\n"
          ]
        }
      ],
      "source": [
        "%%writefile .streamlit/config.toml\n",
        "[theme]\n",
        "\n",
        "# Primary accent for interactive elements\n",
        "primaryColor = '#79a6ff'\n",
        "\n",
        "# Background color for the main content area\n",
        "backgroundColor = '#0E1117'\n",
        "\n",
        "# Background color for sidebar and most interactive widgets\n",
        "secondaryBackgroundColor = '#31333F'\n",
        "\n",
        "# Color used for almost all text\n",
        "textColor = '#F9F5F5'\n",
        "\n",
        "# Font family for all text in the app, except code blocks\n",
        "# Accepted values (serif | sans serif | monospace)\n",
        "# Default: \"sans serif\"\n",
        "font = \"sans serif\""
      ]
    },
    {
      "cell_type": "code",
      "source": [
        "%%writefile app.py\n",
        "# streamlit主程式\n",
        "import streamlit as st\n",
        "from streamlit_option_menu import option_menu\n",
        "import pandas as pd\n",
        "\n",
        "# 站點內容\n",
        "st.set_page_config(page_title=\"記帳本\", layout=\"wide\")\n",
        "# 頁面CSS（有些樣式被toml設定檔優先使用，不能從這邊覆蓋）\n",
        "st.markdown('<style>\\\n",
        ".st-emotion-cache-1dp5vir {\\\n",
        "position: absolute;\\\n",
        "top: 0px;\\\n",
        "right: 0px;\\\n",
        "left: 0px;\\\n",
        "height: 0.125rem;\\\n",
        "background-image: linear-gradient(90deg, rgb(66 216 255), rgb(147 75 252));\\\n",
        "z-index: 999990;\\\n",
        "}\\\n",
        "</style>', unsafe_allow_html=True)\n",
        "\n",
        "# 側欄內容物陣列\n",
        "menu_arr = [\"新增資料\"]\n",
        "\n",
        "\n",
        "# 生成側欄\n",
        "with st.sidebar:\n",
        "    # 側欄分組與主要內容回填\n",
        "    menu = option_menu(\"記帳本\", menu_arr,\n",
        "        icons=[],\n",
        "        menu_icon=\"cast\", default_index=0)\n",
        "\n",
        "def main(): # 這邊應該改成迴圈 枚舉之類的 不然好醜好醜啊\n",
        "    # 各頁面主要內容\n",
        "    if menu == \"新增資料\":\n",
        "        st.subheader(\"新增資料\")\n",
        "        # 頁面組件+邏輯寫在這邊\n",
        "\n",
        "\n",
        "if __name__ == '__main__':\n",
        "    main()"
      ],
      "metadata": {
        "colab": {
          "base_uri": "https://localhost:8080/"
        },
        "id": "JSK0-3faz1df",
        "outputId": "9cdfff90-8ddc-4fe9-c578-157ec2031622"
      },
      "execution_count": 47,
      "outputs": [
        {
          "metadata": {
            "tags": null
          },
          "name": "stdout",
          "output_type": "stream",
          "text": [
            "Writing app.py\n"
          ]
        }
      ]
    },
    {
      "cell_type": "code",
      "source": [
        "# 運行streamlit+臨時隧道 https://discuss.streamlit.io/t/how-to-launch-streamlit-app-from-google-colab-notebook/42399\n",
        "!streamlit run app.py & npx localtunnel --port 8501 & curl ipv4.icanhazip.com"
      ],
      "metadata": {
        "colab": {
          "base_uri": "https://localhost:8080/"
        },
        "id": "81He-sFA0nW3",
        "outputId": "c489280f-7390-4d06-e7e3-f0cbe5592406"
      },
      "execution_count": null,
      "outputs": [
        {
          "output_type": "stream",
          "name": "stdout",
          "text": [
            "34.69.0.68\n",
            "\n",
            "Collecting usage statistics. To deactivate, set browser.gatherUsageStats to False.\n",
            "\u001b[0m\n",
            "\u001b[0m\n",
            "\u001b[34m\u001b[1m  You can now view your Streamlit app in your browser.\u001b[0m\n",
            "\u001b[0m\n",
            "\u001b[34m  Network URL: \u001b[0m\u001b[1mhttp://172.28.0.12:8501\u001b[0m\n",
            "\u001b[34m  External URL: \u001b[0m\u001b[1mhttp://34.69.0.68:8501\u001b[0m\n",
            "\u001b[0m\n",
            "\u001b[K\u001b[?25hnpx: installed 22 in 2.776s\n",
            "your url is: https://stupid-mirrors-fix.loca.lt\n"
          ]
        }
      ]
    }
  ]
}