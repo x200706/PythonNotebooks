{
  "nbformat": 4,
  "nbformat_minor": 0,
  "metadata": {
    "colab": {
      "provenance": [],
      "mount_file_id": "19Esa0yDaTMkcy_6nd_78PSO3oFrlg2XK",
      "authorship_tag": "ABX9TyMJeo19sDWAOe5OyXmXvVOY",
      "include_colab_link": true
    },
    "kernelspec": {
      "name": "python3",
      "display_name": "Python 3"
    },
    "language_info": {
      "name": "python"
    }
  },
  "cells": [
    {
      "cell_type": "markdown",
      "metadata": {
        "id": "view-in-github",
        "colab_type": "text"
      },
      "source": [
        "<a href=\"https://colab.research.google.com/github/x200706/PythonNotebooks/blob/main/%E8%A8%98%E5%B8%B3%E6%9C%AC.ipynb\" target=\"_parent\"><img src=\"https://colab.research.google.com/assets/colab-badge.svg\" alt=\"Open In Colab\"/></a>"
      ]
    },
    {
      "cell_type": "markdown",
      "source": [
        "Ctrl+F9執行以下代碼"
      ],
      "metadata": {
        "id": "uL8TI6oS1Cip"
      }
    },
    {
      "cell_type": "code",
      "source": [
        "# pip區\n",
        "# !pip install streamlit\n",
        "# !pip install streamlit_option_menu\n",
        "# !pip install pandas"
      ],
      "metadata": {
        "id": "dXFQ-2_yubBM"
      },
      "execution_count": 44,
      "outputs": []
    },
    {
      "cell_type": "code",
      "source": [
        "!mkdir .streamlit\n",
        "\n",
        "# 掛起雲端硬碟\n",
        "from google.colab import drive\n",
        "drive.mount('/content/drive')"
      ],
      "metadata": {
        "colab": {
          "base_uri": "https://localhost:8080/"
        },
        "id": "25p64gfE1jso",
        "outputId": "5aa69872-60eb-4bdf-c71c-dcb0ec299811"
      },
      "execution_count": 45,
      "outputs": [
        {
          "output_type": "stream",
          "name": "stdout",
          "text": [
            "mkdir: cannot create directory ‘.streamlit’: File exists\n"
          ]
        }
      ]
    },
    {
      "cell_type": "code",
      "execution_count": 6,
      "metadata": {
        "colab": {
          "base_uri": "https://localhost:8080/"
        },
        "id": "jo4wxIB9uPu1",
        "outputId": "32ead666-54b2-413c-870c-8a60611b8172"
      },
      "outputs": [
        {
          "output_type": "stream",
          "name": "stdout",
          "text": [
            "Overwriting .streamlit/config.toml\n"
          ]
        }
      ],
      "source": [
        "%%writefile .streamlit/config.toml\n",
        "[theme]\n",
        "\n",
        "# Primary accent for interactive elements\n",
        "primaryColor = '#719c4c'\n",
        "\n",
        "# Background color for the main content area\n",
        "backgroundColor = '#0E1117'\n",
        "\n",
        "# Background color for sidebar and most interactive widgets\n",
        "secondaryBackgroundColor = '#0E1117'\n",
        "\n",
        "# Color used for almost all text\n",
        "textColor = '#F9F5F5'\n",
        "\n",
        "# Font family for all text in the app, except code blocks\n",
        "# Accepted values (serif | sans serif | monospace)\n",
        "# Default: \"sans serif\"\n",
        "font = \"sans serif\""
      ]
    },
    {
      "cell_type": "code",
      "source": [
        "%%writefile app.py\n",
        "# streamlit主程式\n",
        "# 不錯的整理：https://surendraredd.github.io/Books/concepts.html\n",
        "import streamlit as st\n",
        "from streamlit_option_menu import option_menu\n",
        "import pandas as pd\n",
        "from datetime import datetime\n",
        "\n",
        "# 站點內容\n",
        "st.set_page_config(page_title=\"記帳本\", layout=\"wide\")\n",
        "# 頁面CSS（有些樣式被toml設定檔優先使用，不能從這邊覆蓋）\n",
        "st.markdown('<style>\\\n",
        ".st-emotion-cache-1dp5vir {\\\n",
        "position: absolute;\\\n",
        "top: 0px;\\\n",
        "right: 0px;\\\n",
        "left: 0px;\\\n",
        "height: 0.125rem;\\\n",
        "background-image: linear-gradient(90deg, #d1ff38, #3cba2f);\\\n",
        "z-index: 999990;\\\n",
        "}\\\n",
        "</style>', unsafe_allow_html=True)\n",
        "\n",
        "# 側欄內容物陣列\n",
        "menu_arr = [\"記帳管理\", \"帳戶檢視\", \"財務BI\"]\n",
        "#TODO記帳管理=新增記帳+記帳總覽 第一版比較陽春 記帳的刪除跟修改請直接改csv謝謝@@ 帳戶也只能用改csv處理\n",
        "#TODO帳戶跟記帳的關聯是個問題－目前假想 帳戶不能硬刪除 當帳戶被關閉時圖表區不顯示資料 但記帳管理總覽區仍給他關聯（新增時不能使用被關閉的帳戶）\n",
        "\n",
        "# 生成側欄\n",
        "with st.sidebar:\n",
        "    # 側欄分組與主要內容回填\n",
        "    menu = option_menu(\"記帳本\", menu_arr,\n",
        "        icons=[],\n",
        "        menu_icon=\"cast\", default_index=0)\n",
        "\n",
        "# 兩份csv要存雲端硬碟達到資料持久化\n",
        "# 分類就放推了 這種寫法關聯太多只是討虐..\n",
        "def main(): # 這邊應該改成迴圈 枚舉之類的 不然好醜好醜啊\n",
        "    # 各頁面主要內容\n",
        "    if menu == \"記帳管理\":\n",
        "        st.subheader(\"💵記帳管理\")\n",
        "        st.info(\"轉帳或提款請自己記兩筆\", icon=\"⚠️\")\n",
        "        # 讀取雲端硬碟的record.csv\n",
        "        file_path = '/content/drive/MyDrive/streamlit_acc/record.csv'\n",
        "        if \"df\" not in st.session_state:\n",
        "            st.session_state.df = pd.read_csv(file_path)\n",
        "\n",
        "        # 讀取雲端硬碟的account.csv\n",
        "        acc_file_path = '/content/drive/MyDrive/streamlit_acc/account.csv'\n",
        "        if \"acc_df\" not in st.session_state:\n",
        "            st.session_state.acc_df = pd.read_csv(acc_file_path)\n",
        "\n",
        "        # 新增記帳 檢查帳戶是否存在 異動帳戶\n",
        "        # 輸入框 太長了做分欄 https://docs.streamlit.io/library/api-reference/layout/st.columns\n",
        "        col1, col2 = st.columns(2)\n",
        "        with col1:\n",
        "          date = st.text_input(\"日期（YYYYMMDD）\", \"\")\n",
        "          name = st.text_input(\"名稱\", \"\")\n",
        "          io_kind = st.text_input(\"收支類型（收填I，支填O）\", \"\")\n",
        "\n",
        "        with col2:\n",
        "          tag = st.text_input(\"分類標籤\", \"\")\n",
        "          price = st.text_input(\"金額\", \"\")\n",
        "          account = st.text_input(\"使用帳戶\", \"\")\n",
        "\n",
        "        if st.button(\"新增記帳\"):\n",
        "          # 先檢查使用帳戶是否存在\n",
        "          #TODO還要檢查是否還能使用\n",
        "          acc_df = st.session_state.acc_df\n",
        "          if not acc_df.loc[acc_df['使用帳戶'] == account].empty: # not False\n",
        "            st.session_state.df = st.session_state.df.append({\"日期\": date, \"名稱\": name, \"收支類型\": io_kind, \"分類標籤\":tag, \"金額\":price, \"使用帳戶\":account}, ignore_index=True)\n",
        "            st.session_state.df.to_csv(file_path, index=False)\n",
        "\n",
        "            # 異動帳戶餘額\n",
        "            # 取回帳戶原來金額\n",
        "            acc_df['金額'] = pd.to_numeric(acc_df['金額']) # 字串要先轉貨幣\n",
        "            origin_price = acc_df.loc[acc_df['使用帳戶'] == account, '金額']\n",
        "\n",
        "            # 根據收支判斷運算方式\n",
        "            if io_kind == \"I\":\n",
        "              acc_df.loc[acc_df['使用帳戶'] == account, '金額'] = origin_price + int(price) # 異動要確實做在原來的csv上才會生效=_=\n",
        "            else:\n",
        "              acc_df.loc[acc_df['使用帳戶'] == account, '金額'] = origin_price - int(price)\n",
        "\n",
        "            acc_df.to_csv(acc_file_path, index=False)\n",
        "\n",
        "            st.success(\"新增成功！\")\n",
        "          else:\n",
        "            st.error(\"沒有這個戶頭啊\")\n",
        "\n",
        "        df_with_style = st.session_state.df.style.format({\"Expense\": lambda x : '{:.2f}'.format(x)}) # 其他資料出現None時會導致本設定失效\n",
        "        # 反正DF自己可以按表頭排序，寫排序導致的問題太多，先不寫了\n",
        "        st.dataframe(df_with_style, height=500, width=1200)\n",
        "\n",
        "    if menu == \"帳戶檢視\":\n",
        "        st.subheader(\"帳戶檢視\")\n",
        "        # 讀取雲端硬碟的account.csv\n",
        "        file_path = '/content/drive/MyDrive/streamlit_acc/account.csv'\n",
        "        df = pd.read_csv(file_path)\n",
        "        st.dataframe(df, height=500, width=1200)\n",
        "\n",
        "\n",
        "    if menu == \"財務BI\":\n",
        "        st.subheader(\"財務BI\")\n",
        "\n",
        "\n",
        "\n",
        "if __name__ == '__main__':\n",
        "    main()"
      ],
      "metadata": {
        "colab": {
          "base_uri": "https://localhost:8080/"
        },
        "id": "JSK0-3faz1df",
        "outputId": "4e7a219f-e84f-40de-bb7b-65e02b2965cb"
      },
      "execution_count": 26,
      "outputs": [
        {
          "output_type": "stream",
          "name": "stdout",
          "text": [
            "Overwriting app.py\n"
          ]
        }
      ]
    },
    {
      "cell_type": "code",
      "source": [
        "# 運行streamlit+臨時隧道 https://discuss.streamlit.io/t/how-to-launch-streamlit-app-from-google-colab-notebook/42399\n",
        "!streamlit run app.py & npx localtunnel --port 8501 & curl ipv4.icanhazip.com"
      ],
      "metadata": {
        "colab": {
          "base_uri": "https://localhost:8080/"
        },
        "id": "81He-sFA0nW3",
        "outputId": "6d4e2c2c-20fc-4123-d49e-860214b672a2"
      },
      "execution_count": null,
      "outputs": [
        {
          "output_type": "stream",
          "name": "stdout",
          "text": [
            "34.69.0.68\n",
            "\n",
            "Collecting usage statistics. To deactivate, set browser.gatherUsageStats to False.\n",
            "\u001b[0m\n",
            "\u001b[0m\n",
            "\u001b[34m\u001b[1m  You can now view your Streamlit app in your browser.\u001b[0m\n",
            "\u001b[0m\n",
            "\u001b[34m  Network URL: \u001b[0m\u001b[1mhttp://172.28.0.12:8501\u001b[0m\n",
            "\u001b[34m  External URL: \u001b[0m\u001b[1mhttp://34.69.0.68:8501\u001b[0m\n",
            "\u001b[0m\n",
            "\u001b[K\u001b[?25hnpx: installed 22 in 3.633s\n",
            "your url is: https://three-pandas-beg.loca.lt\n"
          ]
        }
      ]
    }
  ]
}