{
  "nbformat": 4,
  "nbformat_minor": 0,
  "metadata": {
    "colab": {
      "provenance": [],
      "collapsed_sections": [
        "lWbhIGEIbaIo"
      ],
      "toc_visible": true,
      "authorship_tag": "ABX9TyN+1oQDFH/U7ftHiraSQ3id",
      "include_colab_link": true
    },
    "kernelspec": {
      "name": "python3",
      "display_name": "Python 3"
    },
    "language_info": {
      "name": "python"
    }
  },
  "cells": [
    {
      "cell_type": "markdown",
      "metadata": {
        "id": "view-in-github",
        "colab_type": "text"
      },
      "source": [
        "<a href=\"https://colab.research.google.com/github/x200706/PythonNotebooks/blob/main/%E5%A5%87%E5%B9%BB%E9%AD%94%E6%B3%95Python%E7%AC%AC%E4%B8%80%E5%AD%A3.ipynb\" target=\"_parent\"><img src=\"https://colab.research.google.com/assets/colab-badge.svg\" alt=\"Open In Colab\"/></a>"
      ]
    },
    {
      "cell_type": "markdown",
      "source": [
        "# 🍭Web小工具"
      ],
      "metadata": {
        "id": "569Jne4GbQUh"
      }
    },
    {
      "cell_type": "markdown",
      "source": [
        "## 用於Flask的Service × Supabase GraphQL\n",
        "- Colab可以共享不同程式區塊的變數"
      ],
      "metadata": {
        "id": "RmKgMQhWmA8E"
      }
    },
    {
      "cell_type": "code",
      "source": [
        "# Trello封存指定看板已完成卡片"
      ],
      "metadata": {
        "id": "VjoZi-8VmISF"
      },
      "execution_count": null,
      "outputs": []
    },
    {
      "cell_type": "markdown",
      "source": [
        "## Flask開機兼API Controller"
      ],
      "metadata": {
        "id": "9DKGf6bjhkAx"
      }
    },
    {
      "cell_type": "code",
      "source": [
        "#! # 殺5000 port已經運行的服務\n",
        "# 待撰寫\n",
        "\n",
        "\n",
        "# 注意看，驚嘆號是Colab免費版運行Linux命令列的方式\n",
        "# 若要使用變數請參考 https://colab.research.google.com/github/jakevdp/PythonDataScienceHandbook/blob/master/notebooks/01.05-IPython-And-Shell-Commands.ipynb#scrollTo=q-zpo3vGM5Jv\n",
        "!pip install flask\n",
        "!pip install pyngrok\n",
        "# https://pyngrok.readthedocs.io/en/latest/integrations.html#google-colaboratory\n",
        "\n",
        "import threading\n",
        "from flask import Flask\n",
        "from pyngrok import ngrok, conf # 用於產生臨時的公開IP\n",
        "from google.colab import userdata\n",
        "\n",
        "ngrok_token = userdata.get('NGROK_TOKEN')\n",
        "conf.get_default().auth_token = ngrok_token # 可以起在同一個點上嗎？去研究一下\n",
        "\n",
        "app = Flask(__name__)\n",
        "port = \"5000\"\n",
        "public_url = ngrok.connect(port).public_url\n",
        "print(f\" * ngrok tunnel \\\"{public_url}\\\"\")\n",
        "app.config[\"BASE_URL\"] = public_url\n",
        "\n",
        "@app.route(\"/\")\n",
        "def home():\n",
        "    return \"<h1>可愛的Colab Flask API~</h1>\"\n",
        "\n",
        "\n",
        "threading.Thread(target=app.run, kwargs={\"use_reloader\": False}).start()\n"
      ],
      "metadata": {
        "id": "lkQ5iaV8CwP3",
        "colab": {
          "base_uri": "https://localhost:8080/"
        },
        "outputId": "1f90f54f-62ab-452a-8fe2-36f61c828a03"
      },
      "execution_count": null,
      "outputs": [
        {
          "output_type": "stream",
          "name": "stdout",
          "text": [
            "Requirement already satisfied: flask in /usr/local/lib/python3.10/dist-packages (2.2.5)\n",
            "Requirement already satisfied: Werkzeug>=2.2.2 in /usr/local/lib/python3.10/dist-packages (from flask) (3.0.1)\n",
            "Requirement already satisfied: Jinja2>=3.0 in /usr/local/lib/python3.10/dist-packages (from flask) (3.1.3)\n",
            "Requirement already satisfied: itsdangerous>=2.0 in /usr/local/lib/python3.10/dist-packages (from flask) (2.1.2)\n",
            "Requirement already satisfied: click>=8.0 in /usr/local/lib/python3.10/dist-packages (from flask) (8.1.7)\n",
            "Requirement already satisfied: MarkupSafe>=2.0 in /usr/local/lib/python3.10/dist-packages (from Jinja2>=3.0->flask) (2.1.5)\n",
            "Collecting pyngrok\n",
            "  Downloading pyngrok-7.1.2-py3-none-any.whl (22 kB)\n",
            "Requirement already satisfied: PyYAML>=5.1 in /usr/local/lib/python3.10/dist-packages (from pyngrok) (6.0.1)\n",
            "Installing collected packages: pyngrok\n",
            "Successfully installed pyngrok-7.1.2\n",
            " * ngrok tunnel \"https://ab87-34-125-194-90.ngrok-free.app\"\n",
            " * Serving Flask app '__main__'\n",
            " * Debug mode: off\n"
          ]
        },
        {
          "output_type": "stream",
          "name": "stderr",
          "text": [
            "INFO:werkzeug:\u001b[31m\u001b[1mWARNING: This is a development server. Do not use it in a production deployment. Use a production WSGI server instead.\u001b[0m\n",
            " * Running on http://127.0.0.1:5000\n",
            "INFO:werkzeug:\u001b[33mPress CTRL+C to quit\u001b[0m\n"
          ]
        }
      ]
    },
    {
      "cell_type": "markdown",
      "source": [
        "## Ngrok臨時網址×DNS錨定"
      ],
      "metadata": {
        "id": "g9uKrsJHhy7C"
      }
    },
    {
      "cell_type": "code",
      "source": [
        "# 想想有什麼流程可以讓public url自動跟自己持有的網址掛勾呢？"
      ],
      "metadata": {
        "id": "l55LDlaA9ljc"
      },
      "execution_count": null,
      "outputs": []
    },
    {
      "cell_type": "markdown",
      "source": [
        "## Flask關機（Linux CMD）"
      ],
      "metadata": {
        "id": "Lo7RutKDh2y8"
      }
    },
    {
      "cell_type": "markdown",
      "source": [
        "***\n",
        "# 📘程式功能or風格練習"
      ],
      "metadata": {
        "id": "Wv1gtIRpbV_Q"
      }
    },
    {
      "cell_type": "markdown",
      "source": [
        "## DOC料理小廚師\n",
        "- 能試著存取旁邊VM內的檔案嗎？原始資料放雲端硬碟有點麻煩"
      ],
      "metadata": {
        "id": "jQM7zatjm6Kx"
      }
    },
    {
      "cell_type": "code",
      "source": [],
      "metadata": {
        "id": "TjpdCQIRmrAy"
      },
      "execution_count": null,
      "outputs": []
    },
    {
      "cell_type": "markdown",
      "source": [
        "## 資料科學小萌新與Kaggle API\n"
      ],
      "metadata": {
        "id": "IoHu7Mxnjrnv"
      }
    },
    {
      "cell_type": "code",
      "source": [
        "# https://blog.toright.com/posts/6817/%E5%A6%82%E4%BD%95%E5%9C%A8-colab-%E4%B8%AD%E9%80%8F%E9%81%8E-kaggle-api-%E4%B8%8B%E8%BC%89%E8%B3%87%E6%96%99%E9%9B%86"
      ],
      "metadata": {
        "id": "iVjBaPjIh3vi"
      },
      "execution_count": null,
      "outputs": []
    },
    {
      "cell_type": "markdown",
      "source": [
        "## 不一樣的資料庫 RabbitMQ"
      ],
      "metadata": {
        "id": "xXq7Gp91jrbY"
      }
    },
    {
      "cell_type": "code",
      "source": [],
      "metadata": {
        "id": "jyBIrMw7jzyF"
      },
      "execution_count": null,
      "outputs": []
    },
    {
      "cell_type": "markdown",
      "source": [
        "## 推導式之美"
      ],
      "metadata": {
        "id": "VPGaC96-jrUi"
      }
    },
    {
      "cell_type": "code",
      "source": [
        "# https://www.cnblogs.com/cenyu/p/5718410.html\n",
        "# 1. 對ARR\n",
        "# 2. 對DICT\n",
        "# 3. 對SET"
      ],
      "metadata": {
        "id": "y_NkxkGBXxn1"
      },
      "execution_count": null,
      "outputs": []
    },
    {
      "cell_type": "markdown",
      "source": [
        "***\n",
        "# 🤖AI乾貨"
      ],
      "metadata": {
        "id": "lWbhIGEIbaIo"
      }
    },
    {
      "cell_type": "markdown",
      "source": [
        "## BingAI的範例：來用Python產生安全的密碼吧！"
      ],
      "metadata": {
        "id": "-p6fl7QtjovS"
      }
    },
    {
      "cell_type": "code",
      "source": [
        "import random\n",
        "import string\n",
        "\n",
        "def generate_password(length):\n",
        "    characters = string.ascii_letters + string.digits + string.punctuation\n",
        "    password = ''.join(random.choice(characters) for i in range(length))\n",
        "    return password\n",
        "\n",
        "print(generate_password(10))\n",
        "\n",
        "# 第一次生成4[R:T20v*B，這種密碼哪能過正則.......改天幫他訂正欸（而且密碼產生器原始碼公開好嗎0.0？？）"
      ],
      "metadata": {
        "id": "qSFRaypYTzCX"
      },
      "execution_count": null,
      "outputs": []
    },
    {
      "cell_type": "markdown",
      "source": [
        "***\n",
        "# 始源的Murmur\n",
        "- 本來想做板橋房價預測，但1資料量不足 2效度不高 pass\n",
        "- 本來想做動畫上在那些OTT的練習 ~~但最近被網飛踢掉，心情不好~~，但想到爬蟲每次各家改版就挺容易失效的，算了算了\n",
        "\n",
        ">謎之音：你有87種不寫程式的理由欸<br>\n",
        ">：這叫減法思維😃\n",
        "\n",
        "功能決定都用API出去比較安全；避免他人關閉服務，不共用此筆記。"
      ],
      "metadata": {
        "id": "yzNjIWI28QnU"
      }
    }
  ]
}